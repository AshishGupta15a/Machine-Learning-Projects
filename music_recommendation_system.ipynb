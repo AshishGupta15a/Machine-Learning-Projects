{
 "cells": [
  {
   "cell_type": "code",
   "execution_count": 1,
   "id": "a4958c75",
   "metadata": {},
   "outputs": [],
   "source": [
    "import pandas as pd\n",
    "import numpy as np\n",
    "from sklearn.feature_extraction.text import CountVectorizer\n",
    "from sklearn.feature_extraction.text import TfidfVectorizer\n",
    "from sklearn.metrics.pairwise import cosine_similarity"
   ]
  },
  {
   "cell_type": "code",
   "execution_count": 2,
   "id": "621a2dc2",
   "metadata": {},
   "outputs": [
    {
     "data": {
      "text/html": [
       "<div>\n",
       "<style scoped>\n",
       "    .dataframe tbody tr th:only-of-type {\n",
       "        vertical-align: middle;\n",
       "    }\n",
       "\n",
       "    .dataframe tbody tr th {\n",
       "        vertical-align: top;\n",
       "    }\n",
       "\n",
       "    .dataframe thead th {\n",
       "        text-align: right;\n",
       "    }\n",
       "</style>\n",
       "<table border=\"1\" class=\"dataframe\">\n",
       "  <thead>\n",
       "    <tr style=\"text-align: right;\">\n",
       "      <th></th>\n",
       "      <th>artist</th>\n",
       "      <th>song</th>\n",
       "      <th>link</th>\n",
       "      <th>text</th>\n",
       "    </tr>\n",
       "  </thead>\n",
       "  <tbody>\n",
       "    <tr>\n",
       "      <th>0</th>\n",
       "      <td>ABBA</td>\n",
       "      <td>Ahe's My Kind Of Girl</td>\n",
       "      <td>/a/abba/ahes+my+kind+of+girl_20598417.html</td>\n",
       "      <td>Look at her face, it's a wonderful face  \\r\\nA...</td>\n",
       "    </tr>\n",
       "    <tr>\n",
       "      <th>1</th>\n",
       "      <td>ABBA</td>\n",
       "      <td>Andante, Andante</td>\n",
       "      <td>/a/abba/andante+andante_20002708.html</td>\n",
       "      <td>Take it easy with me, please  \\r\\nTouch me gen...</td>\n",
       "    </tr>\n",
       "    <tr>\n",
       "      <th>2</th>\n",
       "      <td>ABBA</td>\n",
       "      <td>As Good As New</td>\n",
       "      <td>/a/abba/as+good+as+new_20003033.html</td>\n",
       "      <td>I'll never know why I had to go  \\r\\nWhy I had...</td>\n",
       "    </tr>\n",
       "    <tr>\n",
       "      <th>3</th>\n",
       "      <td>ABBA</td>\n",
       "      <td>Bang</td>\n",
       "      <td>/a/abba/bang_20598415.html</td>\n",
       "      <td>Making somebody happy is a question of give an...</td>\n",
       "    </tr>\n",
       "    <tr>\n",
       "      <th>4</th>\n",
       "      <td>ABBA</td>\n",
       "      <td>Bang-A-Boomerang</td>\n",
       "      <td>/a/abba/bang+a+boomerang_20002668.html</td>\n",
       "      <td>Making somebody happy is a question of give an...</td>\n",
       "    </tr>\n",
       "  </tbody>\n",
       "</table>\n",
       "</div>"
      ],
      "text/plain": [
       "  artist                   song                                        link  \\\n",
       "0   ABBA  Ahe's My Kind Of Girl  /a/abba/ahes+my+kind+of+girl_20598417.html   \n",
       "1   ABBA       Andante, Andante       /a/abba/andante+andante_20002708.html   \n",
       "2   ABBA         As Good As New        /a/abba/as+good+as+new_20003033.html   \n",
       "3   ABBA                   Bang                  /a/abba/bang_20598415.html   \n",
       "4   ABBA       Bang-A-Boomerang      /a/abba/bang+a+boomerang_20002668.html   \n",
       "\n",
       "                                                text  \n",
       "0  Look at her face, it's a wonderful face  \\r\\nA...  \n",
       "1  Take it easy with me, please  \\r\\nTouch me gen...  \n",
       "2  I'll never know why I had to go  \\r\\nWhy I had...  \n",
       "3  Making somebody happy is a question of give an...  \n",
       "4  Making somebody happy is a question of give an...  "
      ]
     },
     "execution_count": 2,
     "metadata": {},
     "output_type": "execute_result"
    }
   ],
   "source": [
    "df = pd.read_csv(\"music.csv\")\n",
    "df.head()"
   ]
  },
  {
   "cell_type": "code",
   "execution_count": 3,
   "id": "398cfa03",
   "metadata": {},
   "outputs": [],
   "source": [
    "df = df[0:500]"
   ]
  },
  {
   "cell_type": "code",
   "execution_count": 4,
   "id": "01d6d4de",
   "metadata": {},
   "outputs": [
    {
     "data": {
      "text/html": [
       "<div>\n",
       "<style scoped>\n",
       "    .dataframe tbody tr th:only-of-type {\n",
       "        vertical-align: middle;\n",
       "    }\n",
       "\n",
       "    .dataframe tbody tr th {\n",
       "        vertical-align: top;\n",
       "    }\n",
       "\n",
       "    .dataframe thead th {\n",
       "        text-align: right;\n",
       "    }\n",
       "</style>\n",
       "<table border=\"1\" class=\"dataframe\">\n",
       "  <thead>\n",
       "    <tr style=\"text-align: right;\">\n",
       "      <th></th>\n",
       "      <th>artist</th>\n",
       "      <th>song</th>\n",
       "      <th>link</th>\n",
       "      <th>text</th>\n",
       "    </tr>\n",
       "  </thead>\n",
       "  <tbody>\n",
       "    <tr>\n",
       "      <th>0</th>\n",
       "      <td>ABBA</td>\n",
       "      <td>Ahe's My Kind Of Girl</td>\n",
       "      <td>/a/abba/ahes+my+kind+of+girl_20598417.html</td>\n",
       "      <td>Look at her face, it's a wonderful face  \\r\\nA...</td>\n",
       "    </tr>\n",
       "    <tr>\n",
       "      <th>1</th>\n",
       "      <td>ABBA</td>\n",
       "      <td>Andante, Andante</td>\n",
       "      <td>/a/abba/andante+andante_20002708.html</td>\n",
       "      <td>Take it easy with me, please  \\r\\nTouch me gen...</td>\n",
       "    </tr>\n",
       "    <tr>\n",
       "      <th>2</th>\n",
       "      <td>ABBA</td>\n",
       "      <td>As Good As New</td>\n",
       "      <td>/a/abba/as+good+as+new_20003033.html</td>\n",
       "      <td>I'll never know why I had to go  \\r\\nWhy I had...</td>\n",
       "    </tr>\n",
       "    <tr>\n",
       "      <th>3</th>\n",
       "      <td>ABBA</td>\n",
       "      <td>Bang</td>\n",
       "      <td>/a/abba/bang_20598415.html</td>\n",
       "      <td>Making somebody happy is a question of give an...</td>\n",
       "    </tr>\n",
       "    <tr>\n",
       "      <th>4</th>\n",
       "      <td>ABBA</td>\n",
       "      <td>Bang-A-Boomerang</td>\n",
       "      <td>/a/abba/bang+a+boomerang_20002668.html</td>\n",
       "      <td>Making somebody happy is a question of give an...</td>\n",
       "    </tr>\n",
       "    <tr>\n",
       "      <th>...</th>\n",
       "      <td>...</td>\n",
       "      <td>...</td>\n",
       "      <td>...</td>\n",
       "      <td>...</td>\n",
       "    </tr>\n",
       "    <tr>\n",
       "      <th>495</th>\n",
       "      <td>Alice Cooper</td>\n",
       "      <td>Give The Radio Back</td>\n",
       "      <td>/a/alice+cooper/give+the+radio+back_20210827.html</td>\n",
       "      <td>Hey teacher, whatcha trying to do?  \\r\\nI'm ge...</td>\n",
       "    </tr>\n",
       "    <tr>\n",
       "      <th>496</th>\n",
       "      <td>Alice Cooper</td>\n",
       "      <td>Goin' To The River</td>\n",
       "      <td>/a/alice+cooper/goin+to+the+river_20207258.html</td>\n",
       "      <td>Well I'm goin' to the river, gonna jump off a ...</td>\n",
       "    </tr>\n",
       "    <tr>\n",
       "      <th>497</th>\n",
       "      <td>Alice Cooper</td>\n",
       "      <td>Headlines</td>\n",
       "      <td>/a/alice+cooper/headlines_20211774.html</td>\n",
       "      <td>Do a show  \\r\\nSave a child  \\r\\nRaise a milli...</td>\n",
       "    </tr>\n",
       "    <tr>\n",
       "      <th>498</th>\n",
       "      <td>Alice Cooper</td>\n",
       "      <td>He's Back</td>\n",
       "      <td>/a/alice+cooper/hes+back_20211189.html</td>\n",
       "      <td>You're with your baby  \\r\\nAnd you're parked a...</td>\n",
       "    </tr>\n",
       "    <tr>\n",
       "      <th>499</th>\n",
       "      <td>Alice Cooper</td>\n",
       "      <td>I Better Be Good</td>\n",
       "      <td>/a/alice+cooper/i+better+be+good_20162944.html</td>\n",
       "      <td>If I ain't cool  \\r\\nMy daddy gonna send me  \\...</td>\n",
       "    </tr>\n",
       "  </tbody>\n",
       "</table>\n",
       "<p>500 rows × 4 columns</p>\n",
       "</div>"
      ],
      "text/plain": [
       "           artist                   song  \\\n",
       "0            ABBA  Ahe's My Kind Of Girl   \n",
       "1            ABBA       Andante, Andante   \n",
       "2            ABBA         As Good As New   \n",
       "3            ABBA                   Bang   \n",
       "4            ABBA       Bang-A-Boomerang   \n",
       "..            ...                    ...   \n",
       "495  Alice Cooper    Give The Radio Back   \n",
       "496  Alice Cooper     Goin' To The River   \n",
       "497  Alice Cooper              Headlines   \n",
       "498  Alice Cooper              He's Back   \n",
       "499  Alice Cooper       I Better Be Good   \n",
       "\n",
       "                                                  link  \\\n",
       "0           /a/abba/ahes+my+kind+of+girl_20598417.html   \n",
       "1                /a/abba/andante+andante_20002708.html   \n",
       "2                 /a/abba/as+good+as+new_20003033.html   \n",
       "3                           /a/abba/bang_20598415.html   \n",
       "4               /a/abba/bang+a+boomerang_20002668.html   \n",
       "..                                                 ...   \n",
       "495  /a/alice+cooper/give+the+radio+back_20210827.html   \n",
       "496    /a/alice+cooper/goin+to+the+river_20207258.html   \n",
       "497            /a/alice+cooper/headlines_20211774.html   \n",
       "498             /a/alice+cooper/hes+back_20211189.html   \n",
       "499     /a/alice+cooper/i+better+be+good_20162944.html   \n",
       "\n",
       "                                                  text  \n",
       "0    Look at her face, it's a wonderful face  \\r\\nA...  \n",
       "1    Take it easy with me, please  \\r\\nTouch me gen...  \n",
       "2    I'll never know why I had to go  \\r\\nWhy I had...  \n",
       "3    Making somebody happy is a question of give an...  \n",
       "4    Making somebody happy is a question of give an...  \n",
       "..                                                 ...  \n",
       "495  Hey teacher, whatcha trying to do?  \\r\\nI'm ge...  \n",
       "496  Well I'm goin' to the river, gonna jump off a ...  \n",
       "497  Do a show  \\r\\nSave a child  \\r\\nRaise a milli...  \n",
       "498  You're with your baby  \\r\\nAnd you're parked a...  \n",
       "499  If I ain't cool  \\r\\nMy daddy gonna send me  \\...  \n",
       "\n",
       "[500 rows x 4 columns]"
      ]
     },
     "execution_count": 4,
     "metadata": {},
     "output_type": "execute_result"
    }
   ],
   "source": [
    "df"
   ]
  },
  {
   "cell_type": "code",
   "execution_count": 5,
   "id": "4f0dc406",
   "metadata": {},
   "outputs": [
    {
     "name": "stdout",
     "output_type": "stream",
     "text": [
      "<class 'pandas.core.frame.DataFrame'>\n",
      "RangeIndex: 500 entries, 0 to 499\n",
      "Data columns (total 4 columns):\n",
      " #   Column  Non-Null Count  Dtype \n",
      "---  ------  --------------  ----- \n",
      " 0   artist  500 non-null    object\n",
      " 1   song    500 non-null    object\n",
      " 2   link    500 non-null    object\n",
      " 3   text    500 non-null    object\n",
      "dtypes: object(4)\n",
      "memory usage: 15.8+ KB\n"
     ]
    }
   ],
   "source": [
    "df.info()"
   ]
  },
  {
   "cell_type": "code",
   "execution_count": 6,
   "id": "2e6ac9da",
   "metadata": {},
   "outputs": [],
   "source": [
    "df[\"combined_features\"] = df[\"artist\"]+ \" \"+df[\"song\"]+\" \"+df[\"link\"]+\" \"+df[\"text\"]"
   ]
  },
  {
   "cell_type": "code",
   "execution_count": 7,
   "id": "d597b2db",
   "metadata": {},
   "outputs": [
    {
     "data": {
      "text/plain": [
       "\"ABBA Ahe's My Kind Of Girl /a/abba/ahes+my+kind+of+girl_20598417.html Look at her face, it's a wonderful face  \\r\\nAnd it means something special to me  \\r\\nLook at the way that she smiles when she sees me  \\r\\nHow lucky can one fellow be?  \\r\\n  \\r\\nShe's just my kind of girl, she makes me feel fine  \\r\\nWho could ever believe that she could be mine?  \\r\\nShe's just my kind of girl, without her I'm blue  \\r\\nAnd if she ever leaves me what could I do, what could I do?  \\r\\n  \\r\\nAnd when we go for a walk in the park  \\r\\nAnd she holds me and squeezes my hand  \\r\\nWe'll go on walking for hours and talking  \\r\\nAbout all the things that we plan  \\r\\n  \\r\\nShe's just my kind of girl, she makes me feel fine  \\r\\nWho could ever believe that she could be mine?  \\r\\nShe's just my kind of girl, without her I'm blue  \\r\\nAnd if she ever leaves me what could I do, what could I do?\\r\\n\\r\\n\""
      ]
     },
     "execution_count": 7,
     "metadata": {},
     "output_type": "execute_result"
    }
   ],
   "source": [
    "df.combined_features[0]"
   ]
  },
  {
   "cell_type": "code",
   "execution_count": 8,
   "id": "61cd43f9",
   "metadata": {},
   "outputs": [
    {
     "name": "stdout",
     "output_type": "stream",
     "text": [
      "\n",
      "*********************************************\n",
      "\n",
      "ABBA Ahe's My Kind Of Girl /a/abba/ahes+my+kind+of+girl_20598417.html Look at her face, it's a wonderful face  \r\n",
      "And it means something special to me  \r\n",
      "Look at the way that she smiles when she sees me  \r\n",
      "How lucky can one fellow be?  \r\n",
      "  \r\n",
      "She's just my kind of girl, she makes me feel fine  \r\n",
      "Who could ever believe that she could be mine?  \r\n",
      "She's just my kind of girl, without her I'm blue  \r\n",
      "And if she ever leaves me what could I do, what could I do?  \r\n",
      "  \r\n",
      "And when we go for a walk in the park  \r\n",
      "And she holds me and squeezes my hand  \r\n",
      "We'll go on walking for hours and talking  \r\n",
      "About all the things that we plan  \r\n",
      "  \r\n",
      "She's just my kind of girl, she makes me feel fine  \r\n",
      "Who could ever believe that she could be mine?  \r\n",
      "She's just my kind of girl, without her I'm blue  \r\n",
      "And if she ever leaves me what could I do, what could I do?\r\n",
      "\r\n",
      "\n",
      "\n",
      "*********************************************\n",
      "\n",
      "ABBA Andante, Andante /a/abba/andante+andante_20002708.html Take it easy with me, please  \r\n",
      "Touch me gently like a summer evening breeze  \r\n",
      "Take your time, make it slow  \r\n",
      "Andante, Andante  \r\n",
      "Just let the feeling grow  \r\n",
      "  \r\n",
      "Make your fingers soft and light  \r\n",
      "Let your body be the velvet of the night  \r\n",
      "Touch my soul, you know how  \r\n",
      "Andante, Andante  \r\n",
      "Go slowly with me now  \r\n",
      "  \r\n",
      "I'm your music  \r\n",
      "(I am your music and I am your song)  \r\n",
      "I'm your song  \r\n",
      "(I am your music and I am your song)  \r\n",
      "Play me time and time again and make me strong  \r\n",
      "(Play me again 'cause you're making me strong)  \r\n",
      "Make me sing, make me sound  \r\n",
      "(You make me sing and you make me)  \r\n",
      "Andante, Andante  \r\n",
      "Tread lightly on my ground  \r\n",
      "Andante, Andante  \r\n",
      "Oh please don't let me down  \r\n",
      "  \r\n",
      "There's a shimmer in your eyes  \r\n",
      "Like the feeling of a thousand butterflies  \r\n",
      "Please don't talk, go on, play  \r\n",
      "Andante, Andante  \r\n",
      "And let me float away  \r\n",
      "  \r\n",
      "I'm your music  \r\n",
      "(I am your music and I am your song)  \r\n",
      "I'm your song  \r\n",
      "(I am your music and I am your song)  \r\n",
      "Play me time and time again and make me strong  \r\n",
      "(Play me again 'cause you're making me strong)  \r\n",
      "Make me sing, make me sound  \r\n",
      "(You make me sing and you make me)  \r\n",
      "Andante, Andante  \r\n",
      "Tread lightly on my ground  \r\n",
      "Andante, Andante  \r\n",
      "Oh please don't let me down  \r\n",
      "  \r\n",
      "Make me sing, make me sound  \r\n",
      "(You make me sing and you make me)  \r\n",
      "Andante, Andante  \r\n",
      "Tread lightly on my ground  \r\n",
      "Andante, Andante  \r\n",
      "Oh please don't let me down  \r\n",
      "Andante, Andante  \r\n",
      "Oh please don't let me down\r\n",
      "\r\n",
      "\n",
      "\n",
      "*********************************************\n",
      "\n",
      "ABBA As Good As New /a/abba/as+good+as+new_20003033.html I'll never know why I had to go  \r\n",
      "Why I had to put up such a lousy rotten show  \r\n",
      "Boy, I was tough, packing all my stuff  \r\n",
      "Saying I don't need you anymore, I've had enough  \r\n",
      "And now, look at me standing here again 'cause I found out that  \r\n",
      "Ma ma ma ma ma ma ma ma ma ma ma ma ma ma ma ma my life is here  \r\n",
      "Gotta have you near  \r\n",
      "  \r\n",
      "As good as new, my love for you  \r\n",
      "And keeping it that way is my intention  \r\n",
      "As good as new and growing too  \r\n",
      "Yes, I think it's taking on a new dimension  \r\n",
      "It's as good as new, my love for you  \r\n",
      "Just like it used to be and even better  \r\n",
      "As good as new, thank God it's true  \r\n",
      "Darling, we were always meant to stay together  \r\n",
      "  \r\n",
      "Feel like a creep, never felt so cheap  \r\n",
      "Never had a notion that my love could be so deep  \r\n",
      "How could I make such a dumb mistake  \r\n",
      "Now I know I'm not entitled to another break  \r\n",
      "But please, baby, I beg you to forgive 'cause I found out that  \r\n",
      "Ma ma ma ma ma ma ma ma ma ma ma ma ma ma ma ma my life is here  \r\n",
      "Gotta get you near  \r\n",
      "  \r\n",
      "I thought that our love was at an end but here I am again  \r\n",
      "  \r\n",
      "As good as new, my love for you  \r\n",
      "And keeping it that way is my intention  \r\n",
      "As good as new and growing too  \r\n",
      "Yes, I think it's taking on a new dimension  \r\n",
      "It's as good as new, my love for you  \r\n",
      "Just like it used to be and even better  \r\n",
      "As good as new, thank God it's true  \r\n",
      "Darling, we were always meant to stay together  \r\n",
      "  \r\n",
      "Yes the love I have for you feels as good as new  \r\n",
      "Darling, we were always meant to stay together\r\n",
      "\r\n",
      "\n"
     ]
    }
   ],
   "source": [
    "for i in range(0,3):\n",
    "    print(\"\\n*********************************************\\n\")\n",
    "    print(df.combined_features[i])"
   ]
  },
  {
   "cell_type": "code",
   "execution_count": 9,
   "id": "445d5efa",
   "metadata": {},
   "outputs": [],
   "source": [
    "# cv = CountVectorizer()\n",
    "# count_matrix = cv.fit_transform(df[\"combined_features\"])\n",
    "# print(count_matrix.toarray())"
   ]
  },
  {
   "cell_type": "code",
   "execution_count": 10,
   "id": "ca643ca7",
   "metadata": {},
   "outputs": [],
   "source": [
    "# count_matrix.toarray().shape"
   ]
  },
  {
   "cell_type": "code",
   "execution_count": 11,
   "id": "9a5a6227",
   "metadata": {},
   "outputs": [],
   "source": [
    "tfv = TfidfVectorizer(max_features = 1000)"
   ]
  },
  {
   "cell_type": "code",
   "execution_count": 12,
   "id": "9d73d6d0",
   "metadata": {},
   "outputs": [],
   "source": [
    "tfv_matrix = tfv.fit_transform(df[\"combined_features\"])"
   ]
  },
  {
   "cell_type": "code",
   "execution_count": 13,
   "id": "f122b197",
   "metadata": {},
   "outputs": [
    {
     "data": {
      "text/plain": [
       "(500, 1000)"
      ]
     },
     "execution_count": 13,
     "metadata": {},
     "output_type": "execute_result"
    }
   ],
   "source": [
    "tfv_matrix.shape"
   ]
  },
  {
   "cell_type": "code",
   "execution_count": 14,
   "id": "433dc07b",
   "metadata": {},
   "outputs": [],
   "source": [
    "#tfv_matrix.toarray()"
   ]
  },
  {
   "cell_type": "code",
   "execution_count": 15,
   "id": "50e01275",
   "metadata": {},
   "outputs": [],
   "source": [
    "cosine_sim = cosine_similarity(tfv_matrix)"
   ]
  },
  {
   "cell_type": "code",
   "execution_count": 16,
   "id": "fdfa91fd",
   "metadata": {},
   "outputs": [
    {
     "name": "stdout",
     "output_type": "stream",
     "text": [
      "Index of the song: 3\n"
     ]
    }
   ],
   "source": [
    "import pandas as pd\n",
    "\n",
    "# Check if the song exists in the DataFrame\n",
    "song_user_likes = \"Bang\"\n",
    "if song_user_likes in df.song.values:\n",
    "    song_index = df[df.song == song_user_likes].index[0]\n",
    "    print(\"Index of the song:\", song_index)\n",
    "    # Rest of your code using song_index\n",
    "else:\n",
    "    print(\"The song is not found in the DataFrame.\")\n",
    "    # Handle the case when the song is not found in the DataFrame\n"
   ]
  },
  {
   "cell_type": "code",
   "execution_count": 17,
   "id": "557f15a6",
   "metadata": {},
   "outputs": [
    {
     "data": {
      "text/plain": [
       "3"
      ]
     },
     "execution_count": 17,
     "metadata": {},
     "output_type": "execute_result"
    }
   ],
   "source": [
    "song_index\n"
   ]
  },
  {
   "cell_type": "code",
   "execution_count": 18,
   "id": "297b70ad",
   "metadata": {},
   "outputs": [],
   "source": [
    "similar_songs = list(enumerate(cosine_sim[song_index]))"
   ]
  },
  {
   "cell_type": "code",
   "execution_count": 19,
   "id": "e0070090",
   "metadata": {},
   "outputs": [
    {
     "data": {
      "text/plain": [
       "[(0, 0.032806892000074285),\n",
       " (1, 0.023439440169369954),\n",
       " (2, 0.040704561100933616),\n",
       " (3, 1.0),\n",
       " (4, 0.580843524950691)]"
      ]
     },
     "execution_count": 19,
     "metadata": {},
     "output_type": "execute_result"
    }
   ],
   "source": [
    "similar_songs[0:5]"
   ]
  },
  {
   "cell_type": "code",
   "execution_count": 20,
   "id": "7c5db837",
   "metadata": {},
   "outputs": [],
   "source": [
    "sorted_similar_songs = sorted(similar_songs, key=lambda x:x[1], reverse=True)"
   ]
  },
  {
   "cell_type": "code",
   "execution_count": 21,
   "id": "70de76e3",
   "metadata": {},
   "outputs": [
    {
     "data": {
      "text/plain": [
       "[(3, 1.0),\n",
       " (4, 0.580843524950691),\n",
       " (155, 0.21875208938787535),\n",
       " (15, 0.20705798510835163),\n",
       " (288, 0.1439640581382056)]"
      ]
     },
     "execution_count": 21,
     "metadata": {},
     "output_type": "execute_result"
    }
   ],
   "source": [
    "sorted_similar_songs[0:5]\n"
   ]
  },
  {
   "cell_type": "code",
   "execution_count": 22,
   "id": "5bc0772f",
   "metadata": {},
   "outputs": [
    {
     "name": "stdout",
     "output_type": "stream",
     "text": [
      "Bang-A-Boomerang\n",
      "Janie's Got A Gun\n",
      "Dum Dum Diddle\n",
      "If You Love Me\n",
      "Falling In Love\n",
      "Nothing's Gonna Change My Love For You\n",
      "I Want You\n",
      "The Reason A Dog\n",
      "Welcome My Son\n",
      "Love Comes To Me\n"
     ]
    }
   ],
   "source": [
    "for song in sorted_similar_songs[1:11]:\n",
    "        similar_songs = df[df.index == song[0]][\"song\"].values[0]\n",
    "        print(similar_songs)"
   ]
  },
  {
   "cell_type": "code",
   "execution_count": 23,
   "id": "504f37c2",
   "metadata": {},
   "outputs": [],
   "source": [
    "def recommended_songs(song_user_likes):\n",
    "    song_index = df[df.song == song_user_likes].index[0]\n",
    "    similar_songs = list(enumerate(cosine_sim[song_index]))\n",
    "    sorted_similar_songs = sorted(similar_songs, key=lambda x:x[1], reverse=True)\n",
    "    \n",
    "    for song in sorted_similar_songs[1:11]:\n",
    "        similar_songs = df[df.index == song[0]][\"song\"].values[0]\n",
    "        print(similar_songs)"
   ]
  },
  {
   "cell_type": "code",
   "execution_count": 24,
   "id": "454ac06c",
   "metadata": {},
   "outputs": [
    {
     "name": "stdout",
     "output_type": "stream",
     "text": [
      "Bang-A-Boomerang\n",
      "Janie's Got A Gun\n",
      "Dum Dum Diddle\n",
      "If You Love Me\n",
      "Falling In Love\n",
      "Nothing's Gonna Change My Love For You\n",
      "I Want You\n",
      "The Reason A Dog\n",
      "Welcome My Son\n",
      "Love Comes To Me\n"
     ]
    }
   ],
   "source": [
    "recommended_songs(\"Bang\")"
   ]
  },
  {
   "cell_type": "code",
   "execution_count": null,
   "id": "a121fe8d",
   "metadata": {},
   "outputs": [],
   "source": []
  }
 ],
 "metadata": {
  "kernelspec": {
   "display_name": "Python 3 (ipykernel)",
   "language": "python",
   "name": "python3"
  },
  "language_info": {
   "codemirror_mode": {
    "name": "ipython",
    "version": 3
   },
   "file_extension": ".py",
   "mimetype": "text/x-python",
   "name": "python",
   "nbconvert_exporter": "python",
   "pygments_lexer": "ipython3",
   "version": "3.10.9"
  }
 },
 "nbformat": 4,
 "nbformat_minor": 5
}
